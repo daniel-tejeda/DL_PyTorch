{
 "cells": [
  {
   "cell_type": "markdown",
   "metadata": {},
   "source": [
    "# Classifying Fashion-MNIST\n",
    "\n",
    "Now it's your turn to build and train a neural network. You'll be using the [Fashion-MNIST dataset](https://github.com/zalandoresearch/fashion-mnist), a drop-in replacement for the MNIST dataset. MNIST is actually quite trivial with neural networks where you can easily achieve better than 97% accuracy. Fashion-MNIST is a set of 28x28 greyscale images of clothes. It's more complex than MNIST, so it's a better representation of the actual performance of your network, and a better representation of datasets you'll use in the real world.\n",
    "\n",
    "<img src='assets/fashion-mnist-sprite.png' width=500px>\n",
    "\n",
    "In this notebook, you'll build your own neural network. For the most part, you could just copy and paste the code from Part 3, but you wouldn't be learning. It's important for you to write the code yourself and get it to work. Feel free to consult the previous notebook though as you work through this.\n",
    "\n",
    "First off, let's load the dataset through torchvision."
   ]
  },
  {
   "cell_type": "code",
   "execution_count": 1,
   "metadata": {},
   "outputs": [],
   "source": [
    "import torch\n",
    "from torchvision import datasets, transforms\n",
    "import helper\n",
    "\n",
    "# Define a transform to normalize the data\n",
    "transform = transforms.Compose([transforms.ToTensor(),\n",
    "                                transforms.Normalize((0.5, 0.5, 0.5), (0.5, 0.5, 0.5))])\n",
    "# Download and load the training data\n",
    "trainset = datasets.FashionMNIST('F_MNIST_data/', download=True, train=True, transform=transform)\n",
    "trainloader = torch.utils.data.DataLoader(trainset, batch_size=64, shuffle=True)\n",
    "\n",
    "# Download and load the test data\n",
    "testset = datasets.FashionMNIST('F_MNIST_data/', download=True, train=False, transform=transform)\n",
    "testloader = torch.utils.data.DataLoader(testset, batch_size=64, shuffle=True)"
   ]
  },
  {
   "cell_type": "markdown",
   "metadata": {},
   "source": [
    "Here we can see one of the images."
   ]
  },
  {
   "cell_type": "code",
   "execution_count": 2,
   "metadata": {},
   "outputs": [
    {
     "data": {
      "image/png": "[encoded data removed]",
      "text/plain": [
       "<Figure size 432x288 with 1 Axes>"
      ]
     },
     "metadata": {
      "needs_background": "light"
     },
     "output_type": "display_data"
    }
   ],
   "source": [
    "image, label = next(iter(trainloader))\n",
    "helper.imshow(image[0,:]);"
   ]
  },
  {
   "cell_type": "markdown",
   "metadata": {},
   "source": [
    "With the data loaded, it's time to import the necessary packages."
   ]
  },
  {
   "cell_type": "code",
   "execution_count": 3,
   "metadata": {},
   "outputs": [],
   "source": [
    "%matplotlib inline\n",
    "%config InlineBackend.figure_format = 'retina'\n",
    "\n",
    "import matplotlib.pyplot as plt\n",
    "import numpy as np\n",
    "import time\n",
    "\n",
    "import torch\n",
    "from torch import nn\n",
    "from torch import optim\n",
    "import torch.nn.functional as F\n",
    "from torchvision import datasets, transforms\n",
    "\n",
    "import helper"
   ]
  },
  {
   "cell_type": "markdown",
   "metadata": {},
   "source": [
    "## Building the network\n",
    "\n",
    "Here you should define your network. As with MNIST, each image is 28x28 which is a total of 784 pixels, and there are 10 classes. You should include at least one hidden layer. We suggest you use ReLU activations for the layers and to return the logits from the forward pass. It's up to you how many layers you add and the size of those layers."
   ]
  },
  {
   "cell_type": "code",
   "execution_count": 58,
   "metadata": {},
   "outputs": [],
   "source": [
    "# TODO: Define your network architecture here\n",
    "\n",
    "# Hyperparameters for our network\n",
    "input_size = 784\n",
    "hidden_sizes = [400, 300]\n",
    "output_size = 10\n",
    "learnrate = 0.03\n",
    "\n",
    "class MyNetwork(nn.Module):\n",
    "    \n",
    "    def __init__(self):\n",
    "        super().__init__()\n",
    "        \n",
    "        self.input = nn.Linear(input_size,hidden_sizes[0])\n",
    "        self.fc1 = nn.Linear(hidden_sizes[0],hidden_sizes[1])\n",
    "        self.output = nn.Linear(hidden_sizes[1], output_size)\n",
    "\n",
    "    def forward(self, x):\n",
    "        \n",
    "        x = self.input(x)\n",
    "        x = F.relu(x)\n",
    "        x = self.fc1(x)\n",
    "        x = F.relu(x)\n",
    "        x = self.output(x)\n",
    "        \n",
    "        return x\n",
    "        "
   ]
  },
  {
   "cell_type": "markdown",
   "metadata": {},
   "source": [
    "# Train the network\n",
    "\n",
    "Now you should create your network and train it. First you'll want to define [the criterion](http://pytorch.org/docs/master/nn.html#loss-functions) ( something like `nn.CrossEntropyLoss`) and [the optimizer](http://pytorch.org/docs/master/optim.html) (typically `optim.SGD` or `optim.Adam`).\n",
    "\n",
    "Then write the training code. Remember the training pass is a fairly straightforward process:\n",
    "\n",
    "* Make a forward pass through the network to get the logits \n",
    "* Use the logits to calculate the loss\n",
    "* Perform a backward pass through the network with `loss.backward()` to calculate the gradients\n",
    "* Take a step with the optimizer to update the weights\n",
    "\n",
    "By adjusting the hyperparameters (hidden units, learning rate, etc), you should be able to get the training loss below 0.4."
   ]
  },
  {
   "cell_type": "code",
   "execution_count": 59,
   "metadata": {},
   "outputs": [
    {
     "data": {
      "text/plain": [
       "MyNetwork(\n",
       "  (input): Linear(in_features=784, out_features=400, bias=True)\n",
       "  (fc1): Linear(in_features=400, out_features=300, bias=True)\n",
       "  (output): Linear(in_features=300, out_features=10, bias=True)\n",
       ")"
      ]
     },
     "execution_count": 59,
     "metadata": {},
     "output_type": "execute_result"
    }
   ],
   "source": [
    "# TODO: Create the network, define the criterion and optimizer\n",
    "\n",
    "model = MyNetwork()\n",
    "criterion = nn.CrossEntropyLoss()\n",
    "optimizer = optim.SGD(model.parameters(), lr=learnrate)\n",
    "\n",
    "model"
   ]
  },
  {
   "cell_type": "code",
   "execution_count": 62,
   "metadata": {},
   "outputs": [
    {
     "name": "stdout",
     "output_type": "stream",
     "text": [
      "Epoch:1/5.... Loss: 0.3118\n",
      "Epoch:1/5.... Loss: 0.3348\n",
      "Epoch:1/5.... Loss: 0.3471\n",
      "Epoch:1/5.... Loss: 0.3521\n",
      "Epoch:1/5.... Loss: 0.3233\n",
      "Epoch:1/5.... Loss: 0.3408\n",
      "Epoch:1/5.... Loss: 0.3390\n",
      "Epoch:1/5.... Loss: 0.3194\n",
      "Epoch:1/5.... Loss: 0.3551\n",
      "Epoch:1/5.... Loss: 0.3196\n",
      "Epoch:1/5.... Loss: 0.3018\n",
      "Epoch:1/5.... Loss: 0.3432\n",
      "Epoch:1/5.... Loss: 0.3148\n",
      "Epoch:1/5.... Loss: 0.3363\n",
      "Epoch:1/5.... Loss: 0.3255\n",
      "Epoch:1/5.... Loss: 0.3248\n",
      "Epoch:1/5.... Loss: 0.3143\n",
      "Epoch:1/5.... Loss: 0.3551\n",
      "Epoch:2/5.... Loss: 0.0734\n",
      "Epoch:2/5.... Loss: 0.3103\n",
      "Epoch:2/5.... Loss: 0.3266\n",
      "Epoch:2/5.... Loss: 0.3221\n",
      "Epoch:2/5.... Loss: 0.3098\n",
      "Epoch:2/5.... Loss: 0.3029\n",
      "Epoch:2/5.... Loss: 0.3176\n",
      "Epoch:2/5.... Loss: 0.3223\n",
      "Epoch:2/5.... Loss: 0.3030\n",
      "Epoch:2/5.... Loss: 0.3077\n",
      "Epoch:2/5.... Loss: 0.3270\n",
      "Epoch:2/5.... Loss: 0.3237\n",
      "Epoch:2/5.... Loss: 0.3026\n",
      "Epoch:2/5.... Loss: 0.3242\n",
      "Epoch:2/5.... Loss: 0.3147\n",
      "Epoch:2/5.... Loss: 0.3096\n",
      "Epoch:2/5.... Loss: 0.3171\n",
      "Epoch:2/5.... Loss: 0.3048\n",
      "Epoch:2/5.... Loss: 0.3352\n",
      "Epoch:3/5.... Loss: 0.1575\n",
      "Epoch:3/5.... Loss: 0.2935\n",
      "Epoch:3/5.... Loss: 0.3161\n",
      "Epoch:3/5.... Loss: 0.3024\n",
      "Epoch:3/5.... Loss: 0.3145\n",
      "Epoch:3/5.... Loss: 0.2894\n",
      "Epoch:3/5.... Loss: 0.3022\n",
      "Epoch:3/5.... Loss: 0.2893\n",
      "Epoch:3/5.... Loss: 0.2974\n",
      "Epoch:3/5.... Loss: 0.3117\n",
      "Epoch:3/5.... Loss: 0.2920\n",
      "Epoch:3/5.... Loss: 0.3102\n",
      "Epoch:3/5.... Loss: 0.3115\n",
      "Epoch:3/5.... Loss: 0.2755\n",
      "Epoch:3/5.... Loss: 0.3137\n",
      "Epoch:3/5.... Loss: 0.3011\n",
      "Epoch:3/5.... Loss: 0.3145\n",
      "Epoch:3/5.... Loss: 0.2815\n",
      "Epoch:3/5.... Loss: 0.3072\n",
      "Epoch:4/5.... Loss: 0.1948\n",
      "Epoch:4/5.... Loss: 0.2937\n",
      "Epoch:4/5.... Loss: 0.2646\n",
      "Epoch:4/5.... Loss: 0.2923\n",
      "Epoch:4/5.... Loss: 0.2867\n",
      "Epoch:4/5.... Loss: 0.3044\n",
      "Epoch:4/5.... Loss: 0.3277\n",
      "Epoch:4/5.... Loss: 0.2869\n",
      "Epoch:4/5.... Loss: 0.2894\n",
      "Epoch:4/5.... Loss: 0.2660\n",
      "Epoch:4/5.... Loss: 0.2771\n",
      "Epoch:4/5.... Loss: 0.2904\n",
      "Epoch:4/5.... Loss: 0.3090\n",
      "Epoch:4/5.... Loss: 0.2836\n",
      "Epoch:4/5.... Loss: 0.3090\n",
      "Epoch:4/5.... Loss: 0.2912\n",
      "Epoch:4/5.... Loss: 0.2882\n",
      "Epoch:4/5.... Loss: 0.2914\n",
      "Epoch:4/5.... Loss: 0.2950\n",
      "Epoch:5/5.... Loss: 0.2878\n",
      "Epoch:5/5.... Loss: 0.2770\n",
      "Epoch:5/5.... Loss: 0.2821\n",
      "Epoch:5/5.... Loss: 0.2915\n",
      "Epoch:5/5.... Loss: 0.2822\n",
      "Epoch:5/5.... Loss: 0.2915\n",
      "Epoch:5/5.... Loss: 0.2699\n",
      "Epoch:5/5.... Loss: 0.2905\n",
      "Epoch:5/5.... Loss: 0.2845\n",
      "Epoch:5/5.... Loss: 0.2732\n",
      "Epoch:5/5.... Loss: 0.2685\n",
      "Epoch:5/5.... Loss: 0.2712\n",
      "Epoch:5/5.... Loss: 0.2766\n",
      "Epoch:5/5.... Loss: 0.2832\n",
      "Epoch:5/5.... Loss: 0.2855\n",
      "Epoch:5/5.... Loss: 0.2924\n",
      "Epoch:5/5.... Loss: 0.2696\n",
      "Epoch:5/5.... Loss: 0.2888\n"
     ]
    }
   ],
   "source": [
    "# TODO: Train the network here\n",
    "\n",
    "epochs = 5\n",
    "pr_steps = 50\n",
    "step = 0\n",
    "\n",
    "for e in range(epochs):\n",
    "    \n",
    "    loss_sum = 0\n",
    "    \n",
    "    for x, y in iter(trainloader):\n",
    "        \n",
    "        step += 1\n",
    "        \n",
    "        optimizer.zero_grad()\n",
    "        \n",
    "        x.resize_(x.size()[0], 28*28)\n",
    "        \n",
    "        y_hat = model.forward(x)\n",
    "        \n",
    "        loss = criterion(y_hat, y)\n",
    "        \n",
    "        loss.backward()\n",
    "        \n",
    "        optimizer.step()\n",
    "        \n",
    "        loss_sum += loss.item()\n",
    "        \n",
    "        if step % pr_steps == 0:\n",
    "            print(\"Epoch:{}/{}.... Loss: {:.4f}\".format(e+1, epochs, loss_sum/pr_steps))\n",
    "            loss_sum = 0\n"
   ]
  },
  {
   "cell_type": "code",
   "execution_count": 80,
   "metadata": {},
   "outputs": [
    {
     "data": {
      "image/png": "[encoded data removed]",
      "text/plain": [
       "<Figure size 432x648 with 2 Axes>"
      ]
     },
     "metadata": {
      "image/png": {
       "height": 206,
       "width": 423
      },
      "needs_background": "light"
     },
     "output_type": "display_data"
    }
   ],
   "source": [
    "# Test out your network!\n",
    "\n",
    "dataiter = iter(testloader)\n",
    "images, labels = dataiter.next()\n",
    "img = images[0]\n",
    "\n",
    "# Convert 2D image to 1D vector\n",
    "img = img.resize_(1, 784)\n",
    "\n",
    "# TODO: Calculate the class probabilities (softmax) for img\n",
    "with torch.no_grad():\n",
    "    output = model.forward(img)\n",
    "\n",
    "ps = F.softmax(output, dim=1)\n",
    "\n",
    "# Plot the image and probabilities\n",
    "helper.view_classify(img.resize_(1, 28, 28), ps, version='Fashion')"
   ]
  },
  {
   "cell_type": "code",
   "execution_count": null,
   "metadata": {},
   "outputs": [],
   "source": []
  },
  {
   "cell_type": "markdown",
   "metadata": {},
   "source": [
    "Now that your network is trained, you'll want to save it to disk so you can load it later instead of training it again. Obviously, it's impractical to train a network every time you need one. In practice, you'll train it once, save the model, then reload it for further training or making predictions. In the next part, I'll show you how to save and load trained models."
   ]
  }
 ],
 "metadata": {
  "kernelspec": {
   "display_name": "Python 3",
   "language": "python",
   "name": "python3"
  },
  "language_info": {
   "codemirror_mode": {
    "name": "ipython",
    "version": 3
   },
   "file_extension": ".py",
   "mimetype": "text/x-python",
   "name": "python",
   "nbconvert_exporter": "python",
   "pygments_lexer": "ipython3",
   "version": "3.6.8"
  }
 },
 "nbformat": 4,
 "nbformat_minor": 2
}
