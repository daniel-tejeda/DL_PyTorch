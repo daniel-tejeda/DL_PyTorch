{
 "cells": [
  {
   "cell_type": "markdown",
   "metadata": {},
   "source": [
    "# Neural networks with PyTorch\n",
    "\n",
    "Next I'll show you how to build a neural network with PyTorch."
   ]
  },
  {
   "cell_type": "code",
   "execution_count": 1,
   "metadata": {},
   "outputs": [],
   "source": [
    "# Import things like usual\n",
    "\n",
    "%matplotlib inline\n",
    "%config InlineBackend.figure_format = 'retina'\n",
    "\n",
    "import numpy as np\n",
    "import torch\n",
    "\n",
    "import helper\n",
    "\n",
    "import matplotlib.pyplot as plt\n",
    "from torchvision import datasets, transforms"
   ]
  },
  {
   "cell_type": "markdown",
   "metadata": {},
   "source": [
    "First up, we need to get our dataset. This is provided through the `torchvision` package. The code below will download the MNIST dataset, then create training and test datasets for us. Don't worry too much about the details here, you'll learn more about this later."
   ]
  },
  {
   "cell_type": "code",
   "execution_count": 2,
   "metadata": {
    "scrolled": true
   },
   "outputs": [],
   "source": [
    "# Define a transform to normalize the data\n",
    "transform = transforms.Compose([transforms.ToTensor(),\n",
    "                              transforms.Normalize((0.5, 0.5, 0.5), (0.5, 0.5, 0.5)),\n",
    "                             ])\n",
    "# Download and load the training data\n",
    "trainset = datasets.MNIST('MNIST_data/', download=True, train=True, transform=transform)\n",
    "trainloader = torch.utils.data.DataLoader(trainset, batch_size=64, shuffle=True)\n",
    "\n",
    "# Download and load the test data\n",
    "testset = datasets.MNIST('MNIST_data/', download=True, train=False, transform=transform)\n",
    "testloader = torch.utils.data.DataLoader(testset, batch_size=64, shuffle=True)"
   ]
  },
  {
   "cell_type": "code",
   "execution_count": 3,
   "metadata": {},
   "outputs": [],
   "source": [
    "dataiter = iter(trainloader)\n",
    "images, labels = dataiter.next()"
   ]
  },
  {
   "cell_type": "markdown",
   "metadata": {},
   "source": [
    "We have the training data loaded into `trainloader` and we make that an iterator with `iter(trainloader)`. We'd use this to loop through the dataset for training, but here I'm just grabbing the first batch so we can check out the data. We can see below that `images` is just a tensor with size (64, 1, 28, 28). So, 64 images per batch, 1 color channel, and 28x28 images."
   ]
  },
  {
   "cell_type": "code",
   "execution_count": 4,
   "metadata": {},
   "outputs": [
    {
     "data": {
      "image/png": "[encoded data removed]",
      "text/plain": [
       "<Figure size 432x288 with 1 Axes>"
      ]
     },
     "metadata": {
      "image/png": {
       "height": 250,
       "width": 253
      },
      "needs_background": "light"
     },
     "output_type": "display_data"
    }
   ],
   "source": [
    "plt.imshow(images[3].numpy().squeeze(), cmap='Greys_r');"
   ]
  },
  {
   "cell_type": "markdown",
   "metadata": {},
   "source": [
    "## Building networks with PyTorch\n",
    "\n",
    "Here I'll use PyTorch to build a simple feedfoward network to classify the MNIST images. That is, the network will receive a digit image as input and predict the digit in the image.\n",
    "\n",
    "<img src=\"assets/mlp_mnist.png\" width=600px>\n",
    "\n",
    "To build a neural network with PyTorch, you use the `torch.nn` module. The network itself is a class inheriting from `torch.nn.Module`. You define each of the operations separately, like `nn.Linear(784, 128)` for a fully connected linear layer with 784 inputs and 128 units.\n",
    "\n",
    "The class needs to include a `forward` method that implements the forward pass through the network. In this method, you pass some input tensor `x` through each of the operations you defined earlier. The `torch.nn` module also has functional equivalents for things like ReLUs in `torch.nn.functional`. This module is usually imported as `F`. Then to use a ReLU activation on some layer (which is just a tensor), you'd do `F.relu(x)`. Below are a few different commonly used activation functions.\n",
    "\n",
    "<img src=\"assets/activation.png\" width=700px>\n",
    "\n",
    "So, for this network, I'll build it with three fully connected layers, then a softmax output for predicting classes. The softmax function is similar to the sigmoid in that it squashes inputs between 0 and 1, but it's also normalized so that all the values sum to one like a proper probability distribution."
   ]
  },
  {
   "cell_type": "code",
   "execution_count": 5,
   "metadata": {},
   "outputs": [],
   "source": [
    "from torch import nn\n",
    "from torch import optim\n",
    "import torch.nn.functional as F"
   ]
  },
  {
   "cell_type": "code",
   "execution_count": 6,
   "metadata": {
    "scrolled": true
   },
   "outputs": [
    {
     "data": {
      "text/plain": [
       "Network(\n",
       "  (fc1): Linear(in_features=784, out_features=128, bias=True)\n",
       "  (fc2): Linear(in_features=128, out_features=64, bias=True)\n",
       "  (fc3): Linear(in_features=64, out_features=10, bias=True)\n",
       ")"
      ]
     },
     "execution_count": 6,
     "metadata": {},
     "output_type": "execute_result"
    }
   ],
   "source": [
    "class Network(nn.Module):\n",
    "    def __init__(self):\n",
    "        super().__init__()\n",
    "        # Defining the layers, 128, 64, 10 units each\n",
    "        self.fc1 = nn.Linear(784, 128)\n",
    "        self.fc2 = nn.Linear(128, 64)\n",
    "        # Output layer, 10 units - one for each digit\n",
    "        self.fc3 = nn.Linear(64, 10)\n",
    "        \n",
    "        \n",
    "    def forward(self, x):\n",
    "        ''' Forward pass through the network, returns the output logits '''\n",
    "        \n",
    "        x = self.fc1(x)\n",
    "        x = F.relu(x)\n",
    "        x = self.fc2(x)\n",
    "        x = F.relu(x)\n",
    "        x = self.fc3(x)\n",
    "        x = F.softmax(x, dim=1)\n",
    "        \n",
    "        return x\n",
    "\n",
    "model = Network()\n",
    "model"
   ]
  },
  {
   "cell_type": "markdown",
   "metadata": {},
   "source": [
    "### Initializing weights and biases\n",
    "\n",
    "The weights and such are automatically initialized for you, but it's possible to customize how they are initialized. The weights and biases are tensors attached to the layer you defined, you can get them with `model.fc1.weight` for instance."
   ]
  },
  {
   "cell_type": "code",
   "execution_count": 7,
   "metadata": {},
   "outputs": [
    {
     "name": "stdout",
     "output_type": "stream",
     "text": [
      "Parameter containing:\n",
      "tensor([[ 0.0271, -0.0146,  0.0123,  ..., -0.0307, -0.0224,  0.0173],\n",
      "        [-0.0105,  0.0210, -0.0005,  ..., -0.0281, -0.0148, -0.0033],\n",
      "        [-0.0139,  0.0342,  0.0200,  ..., -0.0264,  0.0297, -0.0223],\n",
      "        ...,\n",
      "        [ 0.0125,  0.0290, -0.0030,  ..., -0.0308, -0.0112,  0.0138],\n",
      "        [ 0.0297,  0.0331,  0.0303,  ...,  0.0003, -0.0046, -0.0091],\n",
      "        [-0.0334, -0.0202,  0.0287,  ..., -0.0055, -0.0234, -0.0244]],\n",
      "       requires_grad=True)\n",
      "Parameter containing:\n",
      "tensor([-0.0243, -0.0191,  0.0238, -0.0259,  0.0255, -0.0194, -0.0079, -0.0289,\n",
      "        -0.0190, -0.0104,  0.0356,  0.0230,  0.0223,  0.0307,  0.0290, -0.0202,\n",
      "        -0.0084,  0.0311,  0.0110, -0.0217,  0.0059,  0.0275, -0.0086, -0.0254,\n",
      "        -0.0032,  0.0298, -0.0169,  0.0128, -0.0053,  0.0227,  0.0308, -0.0025,\n",
      "        -0.0344,  0.0005,  0.0214,  0.0130, -0.0066,  0.0245, -0.0318, -0.0238,\n",
      "         0.0001, -0.0230, -0.0067, -0.0283,  0.0114,  0.0207, -0.0062, -0.0302,\n",
      "         0.0117, -0.0199,  0.0201,  0.0177,  0.0315,  0.0222,  0.0240, -0.0159,\n",
      "         0.0081, -0.0268, -0.0296,  0.0139, -0.0076, -0.0188, -0.0025,  0.0234,\n",
      "        -0.0205,  0.0005,  0.0157,  0.0239,  0.0238,  0.0166, -0.0218, -0.0183,\n",
      "         0.0030,  0.0001, -0.0164,  0.0254,  0.0208,  0.0214, -0.0108,  0.0083,\n",
      "         0.0162,  0.0249,  0.0146, -0.0162,  0.0284,  0.0347, -0.0149,  0.0043,\n",
      "        -0.0214,  0.0357,  0.0200, -0.0330, -0.0225, -0.0218, -0.0144, -0.0119,\n",
      "         0.0050, -0.0062, -0.0085, -0.0202,  0.0151,  0.0266, -0.0346, -0.0320,\n",
      "         0.0278,  0.0281, -0.0172,  0.0174,  0.0048,  0.0206, -0.0265,  0.0315,\n",
      "        -0.0232, -0.0294, -0.0324,  0.0214,  0.0289,  0.0247, -0.0128,  0.0043,\n",
      "        -0.0280,  0.0242, -0.0094, -0.0298, -0.0344, -0.0310, -0.0299,  0.0222],\n",
      "       requires_grad=True)\n"
     ]
    }
   ],
   "source": [
    "print(model.fc1.weight)\n",
    "print(model.fc1.bias)"
   ]
  },
  {
   "cell_type": "markdown",
   "metadata": {},
   "source": [
    "For custom initialization, we want to modify these tensors in place. These are actually autograd *Variables*, so we need to get back the actual tensors with `model.fc1.weight.data`. Once we have the tensors, we can fill them with zeros (for biases) or random normal values."
   ]
  },
  {
   "cell_type": "code",
   "execution_count": 8,
   "metadata": {
    "scrolled": true
   },
   "outputs": [
    {
     "data": {
      "text/plain": [
       "tensor([0., 0., 0., 0., 0., 0., 0., 0., 0., 0., 0., 0., 0., 0., 0., 0., 0., 0.,\n",
       "        0., 0., 0., 0., 0., 0., 0., 0., 0., 0., 0., 0., 0., 0., 0., 0., 0., 0.,\n",
       "        0., 0., 0., 0., 0., 0., 0., 0., 0., 0., 0., 0., 0., 0., 0., 0., 0., 0.,\n",
       "        0., 0., 0., 0., 0., 0., 0., 0., 0., 0., 0., 0., 0., 0., 0., 0., 0., 0.,\n",
       "        0., 0., 0., 0., 0., 0., 0., 0., 0., 0., 0., 0., 0., 0., 0., 0., 0., 0.,\n",
       "        0., 0., 0., 0., 0., 0., 0., 0., 0., 0., 0., 0., 0., 0., 0., 0., 0., 0.,\n",
       "        0., 0., 0., 0., 0., 0., 0., 0., 0., 0., 0., 0., 0., 0., 0., 0., 0., 0.,\n",
       "        0., 0.])"
      ]
     },
     "execution_count": 8,
     "metadata": {},
     "output_type": "execute_result"
    }
   ],
   "source": [
    "# Set biases to all zeros\n",
    "model.fc1.bias.data.fill_(0)"
   ]
  },
  {
   "cell_type": "code",
   "execution_count": 9,
   "metadata": {},
   "outputs": [
    {
     "data": {
      "text/plain": [
       "tensor([[ 0.0234, -0.0137, -0.0077,  ..., -0.0080,  0.0061, -0.0038],\n",
       "        [ 0.0061,  0.0009,  0.0162,  ...,  0.0033,  0.0102, -0.0123],\n",
       "        [ 0.0099,  0.0048, -0.0007,  ...,  0.0037,  0.0080,  0.0175],\n",
       "        ...,\n",
       "        [-0.0065, -0.0093, -0.0249,  ...,  0.0029, -0.0086,  0.0171],\n",
       "        [-0.0143, -0.0003, -0.0035,  ..., -0.0082, -0.0078,  0.0064],\n",
       "        [-0.0091, -0.0042,  0.0148,  ..., -0.0006,  0.0073, -0.0119]])"
      ]
     },
     "execution_count": 9,
     "metadata": {},
     "output_type": "execute_result"
    }
   ],
   "source": [
    "# sample from random normal with standard dev = 0.01\n",
    "model.fc1.weight.data.normal_(std=0.01)"
   ]
  },
  {
   "cell_type": "markdown",
   "metadata": {},
   "source": [
    "### Forward pass\n",
    "\n",
    "Now that we have a network, let's see what happens when we pass in an image. This is called the forward pass. We're going to convert the image data into a tensor, then pass it through the operations defined by the network architecture."
   ]
  },
  {
   "cell_type": "code",
   "execution_count": 10,
   "metadata": {
    "scrolled": true
   },
   "outputs": [
    {
     "data": {
      "image/png": "[encoded data removed]",
      "text/plain": [
       "<Figure size 432x648 with 2 Axes>"
      ]
     },
     "metadata": {
      "image/png": {
       "height": 226,
       "width": 423
      },
      "needs_background": "light"
     },
     "output_type": "display_data"
    }
   ],
   "source": [
    "# Grab some data \n",
    "dataiter = iter(trainloader)\n",
    "images, labels = dataiter.next()\n",
    "\n",
    "# Resize images into a 1D vector, new shape is (batch size, color channels, image pixels) \n",
    "images.resize_(64, 1, 784)\n",
    "# or images.resize_(images.shape[0], 1, 784) to not automatically get batch size\n",
    "\n",
    "# Forward pass through the network\n",
    "img_idx = 0\n",
    "ps = model.forward(images[img_idx,:])\n",
    "\n",
    "img = images[img_idx]\n",
    "helper.view_classify(img.view(1, 28, 28), ps)"
   ]
  },
  {
   "cell_type": "markdown",
   "metadata": {},
   "source": [
    "As you can see above, our network has basically no idea what this digit is. It's because we haven't trained it yet, all the weights are random!\n",
    "\n",
    "PyTorch provides a convenient way to build networks like this where a tensor is passed sequentially through operations, `nn.Sequential` ([documentation](https://pytorch.org/docs/master/nn.html#torch.nn.Sequential)). Using this to build the equivalent network:"
   ]
  },
  {
   "cell_type": "code",
   "execution_count": 11,
   "metadata": {},
   "outputs": [
    {
     "name": "stdout",
     "output_type": "stream",
     "text": [
      "Sequential(\n",
      "  (0): Linear(in_features=784, out_features=128, bias=True)\n",
      "  (1): ReLU()\n",
      "  (2): Linear(in_features=128, out_features=64, bias=True)\n",
      "  (3): ReLU()\n",
      "  (4): Linear(in_features=64, out_features=10, bias=True)\n",
      "  (5): Softmax()\n",
      ")\n"
     ]
    },
    {
     "data": {
      "image/png": "[encoded data removed]",
      "text/plain": [
       "<Figure size 432x648 with 2 Axes>"
      ]
     },
     "metadata": {
      "image/png": {
       "height": 226,
       "width": 423
      },
      "needs_background": "light"
     },
     "output_type": "display_data"
    }
   ],
   "source": [
    "# Hyperparameters for our network\n",
    "input_size = 784\n",
    "hidden_sizes = [128, 64]\n",
    "output_size = 10\n",
    "\n",
    "# Build a feed-forward network\n",
    "model = nn.Sequential(nn.Linear(input_size, hidden_sizes[0]),\n",
    "                      nn.ReLU(),\n",
    "                      nn.Linear(hidden_sizes[0], hidden_sizes[1]),\n",
    "                      nn.ReLU(),\n",
    "                      nn.Linear(hidden_sizes[1], output_size),\n",
    "                      nn.Softmax(dim=1))\n",
    "print(model)\n",
    "\n",
    "# Forward pass through the network and display output\n",
    "images, labels = next(iter(trainloader))\n",
    "images.resize_(images.shape[0], 1, 784)\n",
    "ps = model.forward(images[0,:])\n",
    "helper.view_classify(images[0].view(1, 28, 28), ps)"
   ]
  },
  {
   "cell_type": "markdown",
   "metadata": {},
   "source": [
    "You can also pass in an `OrderedDict` to name the individual layers and operations. Note that a dictionary keys must be unique, so _each operation must have a different name_."
   ]
  },
  {
   "cell_type": "code",
   "execution_count": 12,
   "metadata": {},
   "outputs": [
    {
     "data": {
      "text/plain": [
       "Sequential(\n",
       "  (fc1): Linear(in_features=784, out_features=128, bias=True)\n",
       "  (relu1): ReLU()\n",
       "  (fc2): Linear(in_features=128, out_features=64, bias=True)\n",
       "  (relu2): ReLU()\n",
       "  (output): Linear(in_features=64, out_features=10, bias=True)\n",
       "  (softmax): Softmax()\n",
       ")"
      ]
     },
     "execution_count": 12,
     "metadata": {},
     "output_type": "execute_result"
    }
   ],
   "source": [
    "from collections import OrderedDict\n",
    "model = nn.Sequential(OrderedDict([\n",
    "                      ('fc1', nn.Linear(input_size, hidden_sizes[0])),\n",
    "                      ('relu1', nn.ReLU()),\n",
    "                      ('fc2', nn.Linear(hidden_sizes[0], hidden_sizes[1])),\n",
    "                      ('relu2', nn.ReLU()),\n",
    "                      ('output', nn.Linear(hidden_sizes[1], output_size)),\n",
    "                      ('softmax', nn.Softmax(dim=1))]))\n",
    "model"
   ]
  },
  {
   "cell_type": "markdown",
   "metadata": {},
   "source": [
    "Now it's your turn to build a simple network, use any method I've covered so far. In the next notebook, you'll learn how to train a network so it can make good predictions.\n",
    "\n",
    ">**Exercise:** Build a network to classify the MNIST images with _three_ hidden layers. Use 400 units in the first hidden layer, 200 units in the second layer, and 100 units in the third layer. Each hidden layer should have a ReLU activation function, and use softmax on the output layer. "
   ]
  },
  {
   "cell_type": "code",
   "execution_count": 13,
   "metadata": {},
   "outputs": [
    {
     "data": {
      "text/plain": [
       "Sequential(\n",
       "  (L1): Linear(in_features=784, out_features=128, bias=True)\n",
       "  (relu1): ReLU()\n",
       "  (L2): Linear(in_features=128, out_features=64, bias=True)\n",
       "  (relu2): ReLU()\n",
       "  (output): Linear(in_features=64, out_features=10, bias=True)\n",
       ")"
      ]
     },
     "execution_count": 13,
     "metadata": {},
     "output_type": "execute_result"
    }
   ],
   "source": [
    "## TODO: Your network here\n",
    "\n",
    "# Hyperparameters for  network\n",
    "input_size = 784\n",
    "hidden_sizes = [128, 64]\n",
    "output_size = 10\n",
    "\n",
    "dt_model = nn.Sequential(OrderedDict([\n",
    "                      ('L1', nn.Linear(input_size, hidden_sizes[0])),\n",
    "                      ('relu1', nn.ReLU()),\n",
    "                      ('L2', nn.Linear(hidden_sizes[0], hidden_sizes[1])),\n",
    "                      ('relu2', nn.ReLU()),\n",
    "                      #('L3', nn.Linear(200, 100)),\n",
    "                      #('relu3', nn.ReLU()),\n",
    "                      ('output', nn.Linear(hidden_sizes[1], output_size))]))\n",
    "dt_model"
   ]
  },
  {
   "cell_type": "code",
   "execution_count": 14,
   "metadata": {},
   "outputs": [
    {
     "data": {
      "image/png": "[encoded data removed]",
      "text/plain": [
       "<Figure size 432x648 with 2 Axes>"
      ]
     },
     "metadata": {
      "image/png": {
       "height": 226,
       "width": 423
      },
      "needs_background": "light"
     },
     "output_type": "display_data"
    }
   ],
   "source": [
    "## Run this cell with your model to make sure it works ##\n",
    "# Forward pass through the network and display output\n",
    "images, labels = next(iter(trainloader))\n",
    "images.resize_(images.shape[0], 1, 784)\n",
    "ps = dt_model.forward(images[0,:])\n",
    "helper.view_classify(images[0].view(1, 28, 28), ps)"
   ]
  },
  {
   "cell_type": "markdown",
   "metadata": {},
   "source": [
    "## My own training/model from here..."
   ]
  },
  {
   "cell_type": "code",
   "execution_count": 15,
   "metadata": {
    "scrolled": true
   },
   "outputs": [
    {
     "data": {
      "text/plain": [
       "Parameter containing:\n",
       "tensor([[ 0.0064, -0.0061, -0.0128,  ..., -0.0250, -0.0158, -0.0232],\n",
       "        [-0.0174, -0.0085, -0.0353,  ..., -0.0080, -0.0038, -0.0300],\n",
       "        [ 0.0309,  0.0313,  0.0014,  ..., -0.0047, -0.0300,  0.0138],\n",
       "        ...,\n",
       "        [-0.0278, -0.0237,  0.0119,  ...,  0.0066, -0.0334,  0.0038],\n",
       "        [ 0.0267,  0.0219,  0.0071,  ...,  0.0060, -0.0315,  0.0356],\n",
       "        [ 0.0168,  0.0106, -0.0129,  ..., -0.0198, -0.0113,  0.0278]],\n",
       "       requires_grad=True)"
      ]
     },
     "execution_count": 15,
     "metadata": {},
     "output_type": "execute_result"
    }
   ],
   "source": [
    "criterion = nn.CrossEntropyLoss()\n",
    "optimizer = optim.SGD(dt_model.parameters(), lr=0.03)\n",
    "\n",
    "dt_model.L1.weight"
   ]
  },
  {
   "cell_type": "code",
   "execution_count": 16,
   "metadata": {},
   "outputs": [
    {
     "name": "stdout",
     "output_type": "stream",
     "text": [
      "Epoch 1/3... Avg Loss: 2.2162... Last Loss: 2.0631\n",
      "Epoch 1/3... Avg Loss: 1.8734... Last Loss: 1.6017\n",
      "Epoch 1/3... Avg Loss: 1.3228... Last Loss: 1.1243\n",
      "Epoch 1/3... Avg Loss: 0.9008... Last Loss: 0.7750\n",
      "Epoch 1/3... Avg Loss: 0.7345... Last Loss: 0.5878\n",
      "Epoch 1/3... Avg Loss: 0.5877... Last Loss: 0.5152\n",
      "Epoch 1/3... Avg Loss: 0.5350... Last Loss: 0.4944\n",
      "Epoch 1/3... Avg Loss: 0.4946... Last Loss: 0.3366\n",
      "Epoch 1/3... Avg Loss: 0.4674... Last Loss: 0.5940\n",
      "Epoch 1/3... Avg Loss: 0.4370... Last Loss: 0.2610\n",
      "Epoch 1/3... Avg Loss: 0.4479... Last Loss: 0.3286\n",
      "Epoch 1/3... Avg Loss: 0.4243... Last Loss: 0.5360\n",
      "Epoch 1/3... Avg Loss: 0.4228... Last Loss: 0.4774\n",
      "Epoch 1/3... Avg Loss: 0.3801... Last Loss: 0.2613\n",
      "Epoch 1/3... Avg Loss: 0.3854... Last Loss: 0.4197\n",
      "Epoch 1/3... Avg Loss: 0.3514... Last Loss: 0.2745\n",
      "Epoch 1/3... Avg Loss: 0.3414... Last Loss: 0.2597\n",
      "Epoch 1/3... Avg Loss: 0.3696... Last Loss: 0.4136\n",
      "Epoch 1/3... Avg Loss: 0.3704... Last Loss: 0.3863\n",
      "Epoch 1/3... Avg Loss: 0.3425... Last Loss: 0.2343\n",
      "Epoch 1/3... Avg Loss: 0.3979... Last Loss: 0.3525\n",
      "Epoch 1/3... Avg Loss: 0.3159... Last Loss: 0.3109\n",
      "Epoch 1/3... Avg Loss: 0.3419... Last Loss: 0.4051\n",
      "Epoch 2/3... Avg Loss: 0.2020... Last Loss: 0.1864\n",
      "Epoch 2/3... Avg Loss: 0.3001... Last Loss: 0.5030\n",
      "Epoch 2/3... Avg Loss: 0.2960... Last Loss: 0.1828\n",
      "Epoch 2/3... Avg Loss: 0.3114... Last Loss: 0.2771\n",
      "Epoch 2/3... Avg Loss: 0.2939... Last Loss: 0.4151\n",
      "Epoch 2/3... Avg Loss: 0.3009... Last Loss: 0.2823\n",
      "Epoch 2/3... Avg Loss: 0.2934... Last Loss: 0.3375\n",
      "Epoch 2/3... Avg Loss: 0.3003... Last Loss: 0.2663\n",
      "Epoch 2/3... Avg Loss: 0.3134... Last Loss: 0.2682\n",
      "Epoch 2/3... Avg Loss: 0.2847... Last Loss: 0.3009\n",
      "Epoch 2/3... Avg Loss: 0.2750... Last Loss: 0.1438\n",
      "Epoch 2/3... Avg Loss: 0.3107... Last Loss: 0.3407\n",
      "Epoch 2/3... Avg Loss: 0.2714... Last Loss: 0.1994\n",
      "Epoch 2/3... Avg Loss: 0.3116... Last Loss: 0.4514\n",
      "Epoch 2/3... Avg Loss: 0.2715... Last Loss: 0.2931\n",
      "Epoch 2/3... Avg Loss: 0.2796... Last Loss: 0.2228\n",
      "Epoch 2/3... Avg Loss: 0.2699... Last Loss: 0.1758\n",
      "Epoch 2/3... Avg Loss: 0.2677... Last Loss: 0.2115\n",
      "Epoch 2/3... Avg Loss: 0.2589... Last Loss: 0.1099\n",
      "Epoch 2/3... Avg Loss: 0.2744... Last Loss: 0.2556\n",
      "Epoch 2/3... Avg Loss: 0.2468... Last Loss: 0.2319\n",
      "Epoch 2/3... Avg Loss: 0.2597... Last Loss: 0.3208\n",
      "Epoch 2/3... Avg Loss: 0.2308... Last Loss: 0.1161\n",
      "Epoch 3/3... Avg Loss: 0.0250... Last Loss: 0.2563\n",
      "Epoch 3/3... Avg Loss: 0.2087... Last Loss: 0.1736\n",
      "Epoch 3/3... Avg Loss: 0.2368... Last Loss: 0.3317\n",
      "Epoch 3/3... Avg Loss: 0.2293... Last Loss: 0.2078\n",
      "Epoch 3/3... Avg Loss: 0.2271... Last Loss: 0.2717\n",
      "Epoch 3/3... Avg Loss: 0.2419... Last Loss: 0.3557\n",
      "Epoch 3/3... Avg Loss: 0.2235... Last Loss: 0.1907\n",
      "Epoch 3/3... Avg Loss: 0.2361... Last Loss: 0.1735\n",
      "Epoch 3/3... Avg Loss: 0.2596... Last Loss: 0.3165\n",
      "Epoch 3/3... Avg Loss: 0.2253... Last Loss: 0.2045\n",
      "Epoch 3/3... Avg Loss: 0.2139... Last Loss: 0.4289\n",
      "Epoch 3/3... Avg Loss: 0.2283... Last Loss: 0.2080\n",
      "Epoch 3/3... Avg Loss: 0.2284... Last Loss: 0.2334\n",
      "Epoch 3/3... Avg Loss: 0.2153... Last Loss: 0.2026\n",
      "Epoch 3/3... Avg Loss: 0.2279... Last Loss: 0.1501\n",
      "Epoch 3/3... Avg Loss: 0.2059... Last Loss: 0.3823\n",
      "Epoch 3/3... Avg Loss: 0.2043... Last Loss: 0.1468\n",
      "Epoch 3/3... Avg Loss: 0.2104... Last Loss: 0.2104\n",
      "Epoch 3/3... Avg Loss: 0.2001... Last Loss: 0.1316\n",
      "Epoch 3/3... Avg Loss: 0.1759... Last Loss: 0.3075\n",
      "Epoch 3/3... Avg Loss: 0.2214... Last Loss: 0.1008\n",
      "Epoch 3/3... Avg Loss: 0.2056... Last Loss: 0.1385\n",
      "Epoch 3/3... Avg Loss: 0.2167... Last Loss: 0.1770\n",
      "Epoch 3/3... Avg Loss: 0.1870... Last Loss: 0.2223\n"
     ]
    }
   ],
   "source": [
    "epochs = 3\n",
    "print_every = 40\n",
    "step = 0\n",
    "\n",
    "for en in range(epochs):\n",
    "    running_loss = 0\n",
    "    for image, label in iter(trainloader):\n",
    "        \n",
    "        step += 1\n",
    "        image.resize_(image.size()[0], 28*28)\n",
    "        \n",
    "        optimizer.zero_grad()\n",
    "        \n",
    "        #Feed forward\n",
    "        output = dt_model.forward(image)\n",
    "        \n",
    "        #Error \n",
    "        loss = criterion(output, label)\n",
    "        \n",
    "        #Backpropagation\n",
    "        loss.backward()\n",
    "        \n",
    "        #Update weights\n",
    "        optimizer.step()\n",
    "        \n",
    "        running_loss += loss.item()\n",
    "        \n",
    "        if step % print_every == 0:\n",
    "            print(\"Epoch {}/{}...\".format(en+1,epochs),\n",
    "                  \"Avg Loss: {:.4f}...\".format(running_loss/print_every),\n",
    "                  \"Last Loss: {:.4f}\".format(loss.item()))\n",
    "            \n",
    "            running_loss = 0"
   ]
  },
  {
   "cell_type": "code",
   "execution_count": 17,
   "metadata": {},
   "outputs": [
    {
     "data": {
      "image/png": "[encoded data removed]",
      "text/plain": [
       "<Figure size 432x648 with 2 Axes>"
      ]
     },
     "metadata": {
      "image/png": {
       "height": 226,
       "width": 423
      },
      "needs_background": "light"
     },
     "output_type": "display_data"
    }
   ],
   "source": [
    "image, label = next(iter(trainloader))\n",
    "\n",
    "img = image[0].view(1, 784)\n",
    "# Turn off gradients to speed up this part\n",
    "with torch.no_grad():\n",
    "    logits = dt_model.forward(img)\n",
    "\n",
    "# Output of the network are logits, need to take softmax for probabilities\n",
    "ps = F.softmax(logits, dim=1)\n",
    "helper.view_classify(img.view(1, 28, 28), ps)"
   ]
  },
  {
   "cell_type": "code",
   "execution_count": null,
   "metadata": {},
   "outputs": [],
   "source": []
  },
  {
   "cell_type": "code",
   "execution_count": null,
   "metadata": {},
   "outputs": [],
   "source": []
  }
 ],
 "metadata": {
  "kernelspec": {
   "display_name": "Python 3",
   "language": "python",
   "name": "python3"
  },
  "language_info": {
   "codemirror_mode": {
    "name": "ipython",
    "version": 3
   },
   "file_extension": ".py",
   "mimetype": "text/x-python",
   "name": "python",
   "nbconvert_exporter": "python",
   "pygments_lexer": "ipython3",
   "version": "3.6.8"
  }
 },
 "nbformat": 4,
 "nbformat_minor": 2
}
